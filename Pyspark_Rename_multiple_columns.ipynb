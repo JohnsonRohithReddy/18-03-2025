{
  "nbformat": 4,
  "nbformat_minor": 0,
  "metadata": {
    "colab": {
      "provenance": []
    },
    "kernelspec": {
      "name": "python3",
      "display_name": "Python 3"
    },
    "language_info": {
      "name": "python"
    }
  },
  "cells": [
    {
      "cell_type": "code",
      "execution_count": 13,
      "metadata": {
        "colab": {
          "base_uri": "https://localhost:8080/"
        },
        "id": "xs_NLf5S82Nm",
        "outputId": "b1f3128e-6214-4e9e-bd7e-0280f9d3d590"
      },
      "outputs": [
        {
          "output_type": "stream",
          "name": "stdout",
          "text": [
            "+------------+---------------+-------------+---+------------+-----------+----------+----------------+-----------+-------------------------+----------------------+----------------------+--------------------+----------------------+-------------+\n",
            "|Company Name|     Model Name|Mobile Weight|RAM|Front Camera|Back Camera| Processor|Battery Capacity|Screen Size|Launched Price (Pakistan)|Launched Price (India)|Launched Price (China)|Launched Price (USA)|Launched Price (Dubai)|Launched Year|\n",
            "+------------+---------------+-------------+---+------------+-----------+----------+----------------+-----------+-------------------------+----------------------+----------------------+--------------------+----------------------+-------------+\n",
            "|       Apple|iPhone 16 128GB|         174g|6GB|        12MP|       48MP|A17 Bionic|        3,600mAh| 6.1 inches|              PKR 224,999|            INR 79,999|             CNY 5,799|             USD 799|             AED 2,799|         2024|\n",
            "|       Apple|iPhone 16 256GB|         174g|6GB|        12MP|       48MP|A17 Bionic|        3,600mAh| 6.1 inches|              PKR 234,999|            INR 84,999|             CNY 6,099|             USD 849|             AED 2,999|         2024|\n",
            "|       Apple|iPhone 16 512GB|         174g|6GB|        12MP|       48MP|A17 Bionic|        3,600mAh| 6.1 inches|              PKR 244,999|            INR 89,999|             CNY 6,499|             USD 899|             AED 3,199|         2024|\n",
            "+------------+---------------+-------------+---+------------+-----------+----------+----------------+-----------+-------------------------+----------------------+----------------------+--------------------+----------------------+-------------+\n",
            "only showing top 3 rows\n",
            "\n",
            "+------------+---------------+-------------+---+------------+-----------+----------+----------------+-----------+-----------------+--------------+--------------+------------+----------------------+-------------+\n",
            "|Company_name|          Model|Mobile Weight|RAM|Front Camera|Back Camera| Processor|Battery Capacity|Screen Size|Price in Pakistan|Price in India|Price in China|Price in USA|Launched Price (Dubai)|Year Launched|\n",
            "+------------+---------------+-------------+---+------------+-----------+----------+----------------+-----------+-----------------+--------------+--------------+------------+----------------------+-------------+\n",
            "|       Apple|iPhone 16 128GB|         174g|6GB|        12MP|       48MP|A17 Bionic|        3,600mAh| 6.1 inches|      PKR 224,999|    INR 79,999|     CNY 5,799|     USD 799|             AED 2,799|         2024|\n",
            "|       Apple|iPhone 16 256GB|         174g|6GB|        12MP|       48MP|A17 Bionic|        3,600mAh| 6.1 inches|      PKR 234,999|    INR 84,999|     CNY 6,099|     USD 849|             AED 2,999|         2024|\n",
            "|       Apple|iPhone 16 512GB|         174g|6GB|        12MP|       48MP|A17 Bionic|        3,600mAh| 6.1 inches|      PKR 244,999|    INR 89,999|     CNY 6,499|     USD 899|             AED 3,199|         2024|\n",
            "+------------+---------------+-------------+---+------------+-----------+----------+----------------+-----------+-----------------+--------------+--------------+------------+----------------------+-------------+\n",
            "only showing top 3 rows\n",
            "\n"
          ]
        }
      ],
      "source": [
        "from pyspark.sql import SparkSession\n",
        "from pyspark.sql.types import StructType, StructField, StringType, IntegerType, FloatType\n",
        "\n",
        "spark=SparkSession.builder.appName('Dataframe').getOrCreate()\n",
        "\n",
        "file_path='/content/Mobiles Dataset (2025).csv'\n",
        "\n",
        "df=spark.read.csv(file_path,header=True,inferSchema=True)\n",
        "\n",
        "replace_name={\n",
        "    \"Company Name\":\"Company_name\",\n",
        "    \"Model Name\":\"Model\",\n",
        "    \"Launched Price (Pakistan)\": \"Price in Pakistan\",\n",
        "    \"Launched Price (India)\" : \"Price in India\",\n",
        "    \"Launched Price (China)\" : \"Price in China\",\n",
        "    \"Launched Price (USA)\" : \"Price in USA\",\n",
        "    \"Launched Year\" : \"Year Launched\"\n",
        "}\n",
        "df.show(3)\n",
        "\n",
        "for old_name,new_name in replace_name.items():\n",
        "  df=df.withColumnRenamed(old_name,new_name)\n",
        "\n",
        "df.show(3)\n"
      ]
    },
    {
      "cell_type": "code",
      "source": [
        "file_path='/content/Mobiles Dataset (2025).csv'\n",
        "\n",
        "df=spark.read.csv(file_path,header=True,inferSchema=True)\n",
        "\n",
        "\n",
        "def to_camel_case(col_name):\n",
        "  split_string=col_name.split()\n",
        "  return split_string[0]+''.join(word.capitalize() for word in split_string[1:])\n",
        "\n",
        "convert_col={}\n",
        "list_columns=df.columns\n",
        "print(list_columns)\n",
        "\n",
        "for i in list_columns:\n",
        "  convert_col[i]=to_camel_case(i)\n",
        "\n",
        "print(convert_col)\n",
        "\n",
        "for old_name,new_name in convert_col.items():\n",
        "  df=df.withColumnRenamed(old_name,new_name)\n",
        "\n",
        "df.show(3)\n",
        "\n"
      ],
      "metadata": {
        "colab": {
          "base_uri": "https://localhost:8080/"
        },
        "id": "VXAtxwlTF1YV",
        "outputId": "e7812c6d-0c19-45e9-c29a-0a6b8c1d8e08"
      },
      "execution_count": 14,
      "outputs": [
        {
          "output_type": "stream",
          "name": "stdout",
          "text": [
            "['Company Name', 'Model Name', 'Mobile Weight', 'RAM', 'Front Camera', 'Back Camera', 'Processor', 'Battery Capacity', 'Screen Size', 'Launched Price (Pakistan)', 'Launched Price (India)', 'Launched Price (China)', 'Launched Price (USA)', 'Launched Price (Dubai)', 'Launched Year']\n",
            "{'Company Name': 'CompanyName', 'Model Name': 'ModelName', 'Mobile Weight': 'MobileWeight', 'RAM': 'RAM', 'Front Camera': 'FrontCamera', 'Back Camera': 'BackCamera', 'Processor': 'Processor', 'Battery Capacity': 'BatteryCapacity', 'Screen Size': 'ScreenSize', 'Launched Price (Pakistan)': 'LaunchedPrice(pakistan)', 'Launched Price (India)': 'LaunchedPrice(india)', 'Launched Price (China)': 'LaunchedPrice(china)', 'Launched Price (USA)': 'LaunchedPrice(usa)', 'Launched Price (Dubai)': 'LaunchedPrice(dubai)', 'Launched Year': 'LaunchedYear'}\n",
            "+-----------+---------------+------------+---+-----------+----------+----------+---------------+----------+-----------------------+--------------------+--------------------+------------------+--------------------+------------+\n",
            "|CompanyName|      ModelName|MobileWeight|RAM|FrontCamera|BackCamera| Processor|BatteryCapacity|ScreenSize|LaunchedPrice(pakistan)|LaunchedPrice(india)|LaunchedPrice(china)|LaunchedPrice(usa)|LaunchedPrice(dubai)|LaunchedYear|\n",
            "+-----------+---------------+------------+---+-----------+----------+----------+---------------+----------+-----------------------+--------------------+--------------------+------------------+--------------------+------------+\n",
            "|      Apple|iPhone 16 128GB|        174g|6GB|       12MP|      48MP|A17 Bionic|       3,600mAh|6.1 inches|            PKR 224,999|          INR 79,999|           CNY 5,799|           USD 799|           AED 2,799|        2024|\n",
            "|      Apple|iPhone 16 256GB|        174g|6GB|       12MP|      48MP|A17 Bionic|       3,600mAh|6.1 inches|            PKR 234,999|          INR 84,999|           CNY 6,099|           USD 849|           AED 2,999|        2024|\n",
            "|      Apple|iPhone 16 512GB|        174g|6GB|       12MP|      48MP|A17 Bionic|       3,600mAh|6.1 inches|            PKR 244,999|          INR 89,999|           CNY 6,499|           USD 899|           AED 3,199|        2024|\n",
            "+-----------+---------------+------------+---+-----------+----------+----------+---------------+----------+-----------------------+--------------------+--------------------+------------------+--------------------+------------+\n",
            "only showing top 3 rows\n",
            "\n"
          ]
        }
      ]
    }
  ]
}